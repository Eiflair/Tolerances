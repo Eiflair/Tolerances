{
 "cells": [
  {
   "cell_type": "markdown",
   "metadata": {},
   "source": [
    "This is just a try to share some stuff in class"
   ]
  },
  {
   "cell_type": "code",
   "execution_count": null,
   "metadata": {},
   "outputs": [],
   "source": [
    "# -*- coding: utf-8 -*-\n",
    "\"\"\"\n",
    "@author: Tim Brix Nerenst,\n",
    "         TBNE@MEK.DTU.DK\n",
    "\n",
    "The folling script performs a Monte Carlo simulation.\n",
    "The goal is to investigate how variation impacts the fit/interference of 4 boxes (3 inner, 1 outer).\n",
    "\"\"\"\n",
    "# Packages imported (used for calculations in below)\n",
    "import matplotlib.pyplot as plt\n",
    "import numpy as np\n",
    "import statistics as stat\n",
    "\n",
    "# Define the nominal size and variation (sigma value) of the three inner boxes\n",
    "boxA, sigA  = 5, 0.1/1\n",
    "boxB, sigB  = 7, 0.1/1\n",
    "boxC, sigC  = 10, 0.1/1\n",
    "\n",
    "# Define the nominal size and variation (sigma value) of the outer box\n",
    "boxD, sigD  = 22, 0.1/1\n",
    "\n",
    "# Define the production size\n",
    "prodSize = 10000\n",
    "\n",
    "# Define fuction for generating production parts\n",
    "# 'mu' is the nominal size \n",
    "# 'sig' is the sigma value \n",
    "# 'size' is the size of production\n",
    "def prodPart(mu,sig,size):\n",
    "    prod = np.random.normal(mu,sig,size) #normal distribution\n",
    "    return prod\n",
    "\n",
    "# Calculate the box dimensions with variation included\n",
    "prodA = prodPart(boxA, sigA, prodSize)\n",
    "prodB = prodPart(boxB, sigB, prodSize)\n",
    "prodC = prodPart(boxC, sigC, prodSize)\n",
    "prodD = prodPart(boxD, sigD, prodSize)\n",
    "\n",
    "# Calculate the gap/interferece of the production\n",
    "fit = prodA+prodB+prodC - prodD\n",
    "\n",
    "# Printing standard deviation\n",
    "print(fit)\n",
    "print('Standard deviation of box fit:',stat.stdev(fit))\n",
    "\n",
    "# Plotting all the assemblies (+ => gap / - => interference)\n",
    "plt.figure()\n",
    "plt.plot(fit)\n",
    "plt.axhline(0, color = 'r')\n",
    "plt.title('Plotting of all assemblies')\n",
    "\n",
    "# plotting all the assemblies in a Histogram\n",
    "plt.figure()\n",
    "plt.hist(fit,bins='auto')\n",
    "plt.axvline(0, color = 'r')\n",
    "plt.title('Plotting of all assemblies as Histogram')"
   ]
  },
  {
   "cell_type": "markdown",
   "metadata": {},
   "source": [
    "Did it work?"
   ]
  }
 ],
 "metadata": {
  "kernelspec": {
   "display_name": "Python 3 (ipykernel)",
   "language": "python",
   "name": "python3"
  },
  "language_info": {
   "codemirror_mode": {
    "name": "ipython",
    "version": 3
   },
   "file_extension": ".py",
   "mimetype": "text/x-python",
   "name": "python",
   "nbconvert_exporter": "python",
   "pygments_lexer": "ipython3",
   "version": "3.9.7"
  }
 },
 "nbformat": 4,
 "nbformat_minor": 4
}
